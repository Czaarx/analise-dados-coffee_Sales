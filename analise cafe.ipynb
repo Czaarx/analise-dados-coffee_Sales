{
 "cells": [
  {
   "cell_type": "markdown",
   "id": "cb7d7485",
   "metadata": {},
   "source": [
    "Import de Bibliotecas"
   ]
  },
  {
   "cell_type": "code",
   "execution_count": 578,
   "id": "324c5000-1615-4ceb-a414-88f538da71fa",
   "metadata": {},
   "outputs": [],
   "source": [
    "import pandas as pd\n",
    "import numpy as np\n",
    "import seaborn as sns\n",
    "import matplotlib.pyplot as plt\n",
    "import plotly.express as px"
   ]
  },
  {
   "cell_type": "markdown",
   "id": "da6f502e",
   "metadata": {},
   "source": [
    "Leitura de arquivos e entendimento das tabelas"
   ]
  },
  {
   "cell_type": "code",
   "execution_count": 579,
   "id": "e468d42a-dac4-47bb-a382-816df0d40884",
   "metadata": {},
   "outputs": [],
   "source": [
    "df1 = pd.read_csv(\"https://github.com/Czaarx/porfolio-dados/raw/refs/heads/main/index_1.csv\")\n",
    "df2 = pd.read_csv(\"https://github.com/Czaarx/porfolio-dados/raw/refs/heads/main/index_2.csv\")"
   ]
  },
  {
   "cell_type": "code",
   "execution_count": 580,
   "id": "1719dc1c-0bdb-4646-b4db-d94006e3e927",
   "metadata": {},
   "outputs": [
    {
     "data": {
      "text/html": [
       "<div>\n",
       "<style scoped>\n",
       "    .dataframe tbody tr th:only-of-type {\n",
       "        vertical-align: middle;\n",
       "    }\n",
       "\n",
       "    .dataframe tbody tr th {\n",
       "        vertical-align: top;\n",
       "    }\n",
       "\n",
       "    .dataframe thead th {\n",
       "        text-align: right;\n",
       "    }\n",
       "</style>\n",
       "<table border=\"1\" class=\"dataframe\">\n",
       "  <thead>\n",
       "    <tr style=\"text-align: right;\">\n",
       "      <th></th>\n",
       "      <th>date</th>\n",
       "      <th>datetime</th>\n",
       "      <th>cash_type</th>\n",
       "      <th>card</th>\n",
       "      <th>money</th>\n",
       "      <th>coffee_name</th>\n",
       "    </tr>\n",
       "  </thead>\n",
       "  <tbody>\n",
       "    <tr>\n",
       "      <th>0</th>\n",
       "      <td>2024-03-01</td>\n",
       "      <td>2024-03-01 10:15:50.520</td>\n",
       "      <td>card</td>\n",
       "      <td>ANON-0000-0000-0001</td>\n",
       "      <td>38.7</td>\n",
       "      <td>Latte</td>\n",
       "    </tr>\n",
       "    <tr>\n",
       "      <th>1</th>\n",
       "      <td>2024-03-01</td>\n",
       "      <td>2024-03-01 12:19:22.539</td>\n",
       "      <td>card</td>\n",
       "      <td>ANON-0000-0000-0002</td>\n",
       "      <td>38.7</td>\n",
       "      <td>Hot Chocolate</td>\n",
       "    </tr>\n",
       "    <tr>\n",
       "      <th>2</th>\n",
       "      <td>2024-03-01</td>\n",
       "      <td>2024-03-01 12:20:18.089</td>\n",
       "      <td>card</td>\n",
       "      <td>ANON-0000-0000-0002</td>\n",
       "      <td>38.7</td>\n",
       "      <td>Hot Chocolate</td>\n",
       "    </tr>\n",
       "    <tr>\n",
       "      <th>3</th>\n",
       "      <td>2024-03-01</td>\n",
       "      <td>2024-03-01 13:46:33.006</td>\n",
       "      <td>card</td>\n",
       "      <td>ANON-0000-0000-0003</td>\n",
       "      <td>28.9</td>\n",
       "      <td>Americano</td>\n",
       "    </tr>\n",
       "    <tr>\n",
       "      <th>4</th>\n",
       "      <td>2024-03-01</td>\n",
       "      <td>2024-03-01 13:48:14.626</td>\n",
       "      <td>card</td>\n",
       "      <td>ANON-0000-0000-0004</td>\n",
       "      <td>38.7</td>\n",
       "      <td>Latte</td>\n",
       "    </tr>\n",
       "  </tbody>\n",
       "</table>\n",
       "</div>"
      ],
      "text/plain": [
       "         date                 datetime cash_type                 card  money  \\\n",
       "0  2024-03-01  2024-03-01 10:15:50.520      card  ANON-0000-0000-0001   38.7   \n",
       "1  2024-03-01  2024-03-01 12:19:22.539      card  ANON-0000-0000-0002   38.7   \n",
       "2  2024-03-01  2024-03-01 12:20:18.089      card  ANON-0000-0000-0002   38.7   \n",
       "3  2024-03-01  2024-03-01 13:46:33.006      card  ANON-0000-0000-0003   28.9   \n",
       "4  2024-03-01  2024-03-01 13:48:14.626      card  ANON-0000-0000-0004   38.7   \n",
       "\n",
       "     coffee_name  \n",
       "0          Latte  \n",
       "1  Hot Chocolate  \n",
       "2  Hot Chocolate  \n",
       "3      Americano  \n",
       "4          Latte  "
      ]
     },
     "execution_count": 580,
     "metadata": {},
     "output_type": "execute_result"
    }
   ],
   "source": [
    "df1.head()"
   ]
  },
  {
   "cell_type": "code",
   "execution_count": 581,
   "id": "7bb89e11-8ade-4cab-ac20-d53952e2484d",
   "metadata": {},
   "outputs": [
    {
     "data": {
      "text/html": [
       "<div>\n",
       "<style scoped>\n",
       "    .dataframe tbody tr th:only-of-type {\n",
       "        vertical-align: middle;\n",
       "    }\n",
       "\n",
       "    .dataframe tbody tr th {\n",
       "        vertical-align: top;\n",
       "    }\n",
       "\n",
       "    .dataframe thead th {\n",
       "        text-align: right;\n",
       "    }\n",
       "</style>\n",
       "<table border=\"1\" class=\"dataframe\">\n",
       "  <thead>\n",
       "    <tr style=\"text-align: right;\">\n",
       "      <th></th>\n",
       "      <th>date</th>\n",
       "      <th>datetime</th>\n",
       "      <th>cash_type</th>\n",
       "      <th>money</th>\n",
       "      <th>coffee_name</th>\n",
       "    </tr>\n",
       "  </thead>\n",
       "  <tbody>\n",
       "    <tr>\n",
       "      <th>0</th>\n",
       "      <td>2025-02-08</td>\n",
       "      <td>2025-02-08 14:26:04</td>\n",
       "      <td>cash</td>\n",
       "      <td>15.0</td>\n",
       "      <td>Tea</td>\n",
       "    </tr>\n",
       "    <tr>\n",
       "      <th>1</th>\n",
       "      <td>2025-02-08</td>\n",
       "      <td>2025-02-08 14:28:26</td>\n",
       "      <td>cash</td>\n",
       "      <td>15.0</td>\n",
       "      <td>Tea</td>\n",
       "    </tr>\n",
       "    <tr>\n",
       "      <th>2</th>\n",
       "      <td>2025-02-08</td>\n",
       "      <td>2025-02-08 14:33:04</td>\n",
       "      <td>card</td>\n",
       "      <td>20.0</td>\n",
       "      <td>Espresso</td>\n",
       "    </tr>\n",
       "    <tr>\n",
       "      <th>3</th>\n",
       "      <td>2025-02-08</td>\n",
       "      <td>2025-02-08 15:51:04</td>\n",
       "      <td>card</td>\n",
       "      <td>30.0</td>\n",
       "      <td>Chocolate with coffee</td>\n",
       "    </tr>\n",
       "    <tr>\n",
       "      <th>4</th>\n",
       "      <td>2025-02-08</td>\n",
       "      <td>2025-02-08 16:35:01</td>\n",
       "      <td>cash</td>\n",
       "      <td>27.0</td>\n",
       "      <td>Chocolate with milk</td>\n",
       "    </tr>\n",
       "  </tbody>\n",
       "</table>\n",
       "</div>"
      ],
      "text/plain": [
       "         date             datetime cash_type  money            coffee_name\n",
       "0  2025-02-08  2025-02-08 14:26:04      cash   15.0                    Tea\n",
       "1  2025-02-08  2025-02-08 14:28:26      cash   15.0                    Tea\n",
       "2  2025-02-08  2025-02-08 14:33:04      card   20.0               Espresso\n",
       "3  2025-02-08  2025-02-08 15:51:04      card   30.0  Chocolate with coffee\n",
       "4  2025-02-08  2025-02-08 16:35:01      cash   27.0    Chocolate with milk"
      ]
     },
     "execution_count": 581,
     "metadata": {},
     "output_type": "execute_result"
    }
   ],
   "source": [
    "df2.head()"
   ]
  },
  {
   "cell_type": "code",
   "execution_count": 582,
   "id": "5fd1415c-f464-4fc4-b8e7-e12cc5559681",
   "metadata": {},
   "outputs": [
    {
     "name": "stdout",
     "output_type": "stream",
     "text": [
      "<class 'pandas.core.frame.DataFrame'>\n",
      "RangeIndex: 3636 entries, 0 to 3635\n",
      "Data columns (total 6 columns):\n",
      " #   Column       Non-Null Count  Dtype  \n",
      "---  ------       --------------  -----  \n",
      " 0   date         3636 non-null   object \n",
      " 1   datetime     3636 non-null   object \n",
      " 2   cash_type    3636 non-null   object \n",
      " 3   card         3547 non-null   object \n",
      " 4   money        3636 non-null   float64\n",
      " 5   coffee_name  3636 non-null   object \n",
      "dtypes: float64(1), object(5)\n",
      "memory usage: 170.6+ KB\n",
      "None\n",
      "<class 'pandas.core.frame.DataFrame'>\n",
      "RangeIndex: 262 entries, 0 to 261\n",
      "Data columns (total 5 columns):\n",
      " #   Column       Non-Null Count  Dtype  \n",
      "---  ------       --------------  -----  \n",
      " 0   date         262 non-null    object \n",
      " 1   datetime     262 non-null    object \n",
      " 2   cash_type    262 non-null    object \n",
      " 3   money        262 non-null    float64\n",
      " 4   coffee_name  262 non-null    object \n",
      "dtypes: float64(1), object(4)\n",
      "memory usage: 10.4+ KB\n",
      "None\n"
     ]
    }
   ],
   "source": [
    "# Verificando informações dos DataFrames\n",
    "print(df1.info())\n",
    "print(df2.info())"
   ]
  },
  {
   "cell_type": "markdown",
   "id": "0c168509",
   "metadata": {},
   "source": [
    "Limpeza de dados"
   ]
  },
  {
   "cell_type": "code",
   "execution_count": 583,
   "id": "78b04be8",
   "metadata": {},
   "outputs": [
    {
     "data": {
      "text/html": [
       "<div>\n",
       "<style scoped>\n",
       "    .dataframe tbody tr th:only-of-type {\n",
       "        vertical-align: middle;\n",
       "    }\n",
       "\n",
       "    .dataframe tbody tr th {\n",
       "        vertical-align: top;\n",
       "    }\n",
       "\n",
       "    .dataframe thead th {\n",
       "        text-align: right;\n",
       "    }\n",
       "</style>\n",
       "<table border=\"1\" class=\"dataframe\">\n",
       "  <thead>\n",
       "    <tr style=\"text-align: right;\">\n",
       "      <th></th>\n",
       "      <th>date</th>\n",
       "      <th>datetime</th>\n",
       "      <th>cash_type</th>\n",
       "      <th>money</th>\n",
       "      <th>coffee_name</th>\n",
       "      <th>card</th>\n",
       "    </tr>\n",
       "  </thead>\n",
       "  <tbody>\n",
       "    <tr>\n",
       "      <th>0</th>\n",
       "      <td>2025-02-08</td>\n",
       "      <td>2025-02-08 14:26:04</td>\n",
       "      <td>cash</td>\n",
       "      <td>15.0</td>\n",
       "      <td>Tea</td>\n",
       "      <td>None</td>\n",
       "    </tr>\n",
       "    <tr>\n",
       "      <th>1</th>\n",
       "      <td>2025-02-08</td>\n",
       "      <td>2025-02-08 14:28:26</td>\n",
       "      <td>cash</td>\n",
       "      <td>15.0</td>\n",
       "      <td>Tea</td>\n",
       "      <td>None</td>\n",
       "    </tr>\n",
       "    <tr>\n",
       "      <th>2</th>\n",
       "      <td>2025-02-08</td>\n",
       "      <td>2025-02-08 14:33:04</td>\n",
       "      <td>card</td>\n",
       "      <td>20.0</td>\n",
       "      <td>Espresso</td>\n",
       "      <td>None</td>\n",
       "    </tr>\n",
       "    <tr>\n",
       "      <th>3</th>\n",
       "      <td>2025-02-08</td>\n",
       "      <td>2025-02-08 15:51:04</td>\n",
       "      <td>card</td>\n",
       "      <td>30.0</td>\n",
       "      <td>Chocolate with coffee</td>\n",
       "      <td>None</td>\n",
       "    </tr>\n",
       "    <tr>\n",
       "      <th>4</th>\n",
       "      <td>2025-02-08</td>\n",
       "      <td>2025-02-08 16:35:01</td>\n",
       "      <td>cash</td>\n",
       "      <td>27.0</td>\n",
       "      <td>Chocolate with milk</td>\n",
       "      <td>None</td>\n",
       "    </tr>\n",
       "  </tbody>\n",
       "</table>\n",
       "</div>"
      ],
      "text/plain": [
       "         date             datetime cash_type  money            coffee_name  \\\n",
       "0  2025-02-08  2025-02-08 14:26:04      cash   15.0                    Tea   \n",
       "1  2025-02-08  2025-02-08 14:28:26      cash   15.0                    Tea   \n",
       "2  2025-02-08  2025-02-08 14:33:04      card   20.0               Espresso   \n",
       "3  2025-02-08  2025-02-08 15:51:04      card   30.0  Chocolate with coffee   \n",
       "4  2025-02-08  2025-02-08 16:35:01      cash   27.0    Chocolate with milk   \n",
       "\n",
       "   card  \n",
       "0  None  \n",
       "1  None  \n",
       "2  None  \n",
       "3  None  \n",
       "4  None  "
      ]
     },
     "execution_count": 583,
     "metadata": {},
     "output_type": "execute_result"
    }
   ],
   "source": [
    "# Criando coluna dummy para equalizar o numero de colunas\n",
    "\n",
    "df2[\"card\"] = None\n",
    "df2.head()"
   ]
  },
  {
   "cell_type": "code",
   "execution_count": 584,
   "id": "31705337",
   "metadata": {},
   "outputs": [],
   "source": [
    "#Convertendo datatype de datetime para datetime64 (necessario para utilizar colunas ano, mes e dia)\n",
    "\n",
    "df1[\"datetime\"] = pd.to_datetime(df1[\"datetime\"])\n",
    "df2[\"datetime\"] = pd.to_datetime(df1[\"datetime\"])"
   ]
  },
  {
   "cell_type": "code",
   "execution_count": 585,
   "id": "bf9df4d5",
   "metadata": {},
   "outputs": [],
   "source": [
    "#Concatenando DataFrames\n",
    "\n",
    "df = pd.concat([df1, df2], ignore_index=True)"
   ]
  },
  {
   "cell_type": "code",
   "execution_count": 586,
   "id": "b10c8630",
   "metadata": {},
   "outputs": [
    {
     "data": {
      "text/html": [
       "<div>\n",
       "<style scoped>\n",
       "    .dataframe tbody tr th:only-of-type {\n",
       "        vertical-align: middle;\n",
       "    }\n",
       "\n",
       "    .dataframe tbody tr th {\n",
       "        vertical-align: top;\n",
       "    }\n",
       "\n",
       "    .dataframe thead th {\n",
       "        text-align: right;\n",
       "    }\n",
       "</style>\n",
       "<table border=\"1\" class=\"dataframe\">\n",
       "  <thead>\n",
       "    <tr style=\"text-align: right;\">\n",
       "      <th></th>\n",
       "      <th>date</th>\n",
       "      <th>datetime</th>\n",
       "      <th>cash_type</th>\n",
       "      <th>card</th>\n",
       "      <th>money</th>\n",
       "      <th>coffee_name</th>\n",
       "      <th>hour</th>\n",
       "      <th>day</th>\n",
       "      <th>month</th>\n",
       "      <th>year</th>\n",
       "    </tr>\n",
       "  </thead>\n",
       "  <tbody>\n",
       "    <tr>\n",
       "      <th>0</th>\n",
       "      <td>2024-03-01</td>\n",
       "      <td>2024-03-01 10:15:50.520</td>\n",
       "      <td>card</td>\n",
       "      <td>ANON-0000-0000-0001</td>\n",
       "      <td>38.7</td>\n",
       "      <td>Latte</td>\n",
       "      <td>10</td>\n",
       "      <td>Friday</td>\n",
       "      <td>March</td>\n",
       "      <td>2024</td>\n",
       "    </tr>\n",
       "    <tr>\n",
       "      <th>1</th>\n",
       "      <td>2024-03-01</td>\n",
       "      <td>2024-03-01 12:19:22.539</td>\n",
       "      <td>card</td>\n",
       "      <td>ANON-0000-0000-0002</td>\n",
       "      <td>38.7</td>\n",
       "      <td>Hot Chocolate</td>\n",
       "      <td>12</td>\n",
       "      <td>Friday</td>\n",
       "      <td>March</td>\n",
       "      <td>2024</td>\n",
       "    </tr>\n",
       "    <tr>\n",
       "      <th>2</th>\n",
       "      <td>2024-03-01</td>\n",
       "      <td>2024-03-01 12:20:18.089</td>\n",
       "      <td>card</td>\n",
       "      <td>ANON-0000-0000-0002</td>\n",
       "      <td>38.7</td>\n",
       "      <td>Hot Chocolate</td>\n",
       "      <td>12</td>\n",
       "      <td>Friday</td>\n",
       "      <td>March</td>\n",
       "      <td>2024</td>\n",
       "    </tr>\n",
       "    <tr>\n",
       "      <th>3</th>\n",
       "      <td>2024-03-01</td>\n",
       "      <td>2024-03-01 13:46:33.006</td>\n",
       "      <td>card</td>\n",
       "      <td>ANON-0000-0000-0003</td>\n",
       "      <td>28.9</td>\n",
       "      <td>Americano</td>\n",
       "      <td>13</td>\n",
       "      <td>Friday</td>\n",
       "      <td>March</td>\n",
       "      <td>2024</td>\n",
       "    </tr>\n",
       "    <tr>\n",
       "      <th>4</th>\n",
       "      <td>2024-03-01</td>\n",
       "      <td>2024-03-01 13:48:14.626</td>\n",
       "      <td>card</td>\n",
       "      <td>ANON-0000-0000-0004</td>\n",
       "      <td>38.7</td>\n",
       "      <td>Latte</td>\n",
       "      <td>13</td>\n",
       "      <td>Friday</td>\n",
       "      <td>March</td>\n",
       "      <td>2024</td>\n",
       "    </tr>\n",
       "  </tbody>\n",
       "</table>\n",
       "</div>"
      ],
      "text/plain": [
       "         date                datetime cash_type                 card  money  \\\n",
       "0  2024-03-01 2024-03-01 10:15:50.520      card  ANON-0000-0000-0001   38.7   \n",
       "1  2024-03-01 2024-03-01 12:19:22.539      card  ANON-0000-0000-0002   38.7   \n",
       "2  2024-03-01 2024-03-01 12:20:18.089      card  ANON-0000-0000-0002   38.7   \n",
       "3  2024-03-01 2024-03-01 13:46:33.006      card  ANON-0000-0000-0003   28.9   \n",
       "4  2024-03-01 2024-03-01 13:48:14.626      card  ANON-0000-0000-0004   38.7   \n",
       "\n",
       "     coffee_name  hour     day  month  year  \n",
       "0          Latte    10  Friday  March  2024  \n",
       "1  Hot Chocolate    12  Friday  March  2024  \n",
       "2  Hot Chocolate    12  Friday  March  2024  \n",
       "3      Americano    13  Friday  March  2024  \n",
       "4          Latte    13  Friday  March  2024  "
      ]
     },
     "execution_count": 586,
     "metadata": {},
     "output_type": "execute_result"
    }
   ],
   "source": [
    "# Criando colunas hora, dia, mes, ano\n",
    "df['hour'] = df['datetime'].dt.hour\n",
    "df['day'] = df['datetime'].dt.day_name()\n",
    "df['month'] = df['datetime'].dt.month_name()\n",
    "df['year'] = df['datetime'].dt.year\n",
    "\n",
    "df_limpo = df \n",
    "df_limpo.head()"
   ]
  },
  {
   "cell_type": "code",
   "execution_count": 587,
   "id": "5e1016f5",
   "metadata": {},
   "outputs": [
    {
     "data": {
      "text/plain": [
       "Index(['Data', 'Data e Hora', 'Tipo de Pagamento', 'Cartao', 'Valor',\n",
       "       'Nome do Café', 'Hora', 'Dia', 'Mês', 'Ano'],\n",
       "      dtype='object')"
      ]
     },
     "execution_count": 587,
     "metadata": {},
     "output_type": "execute_result"
    }
   ],
   "source": [
    "# Renomeando colunas\n",
    "\n",
    "nomes_colunas = {\n",
    "    \"date\": \"Data\",\n",
    "    \"datetime\": \"Data e Hora\",\n",
    "    \"cash_type\": \"Tipo de Pagamento\",\n",
    "    \"card\": \"Cartao\",\n",
    "    \"money\": \"Valor\",\n",
    "    \"coffee_name\": \"Nome do Café\",\n",
    "    \"hour\": \"Hora\",\n",
    "    \"day\": \"Dia\",\n",
    "    \"month\": \"Mês\",\n",
    "    \"year\": \"Ano\"    \n",
    "}\n",
    "\n",
    "df_limpo.rename(columns=nomes_colunas, inplace=True)\n",
    "df_limpo.columns"
   ]
  },
  {
   "cell_type": "code",
   "execution_count": 588,
   "id": "d94eeb6b",
   "metadata": {},
   "outputs": [
    {
     "data": {
      "text/plain": [
       "Tipo de Pagamento\n",
       "Cartão      3729\n",
       "Dinheiro     169\n",
       "Name: count, dtype: int64"
      ]
     },
     "execution_count": 588,
     "metadata": {},
     "output_type": "execute_result"
    }
   ],
   "source": [
    "# Renomeando linhas de Tipo de Pagamento\n",
    "df_limpo[\"Tipo de Pagamento\"] = df_limpo[\"Tipo de Pagamento\"].replace({\n",
    "    \"card\": \"Cartão\",\n",
    "    \"cash\": \"Dinheiro\"\n",
    "})\n",
    "\n",
    "df_limpo[\"Tipo de Pagamento\"].value_counts()"
   ]
  },
  {
   "cell_type": "code",
   "execution_count": 589,
   "id": "74bec834",
   "metadata": {},
   "outputs": [],
   "source": [
    "#Renomeando Linhas do dia \n",
    "\n",
    "df_limpo[\"Dia\"] = df_limpo[\"Dia\"].replace({\n",
    "    \"Monday\": \"Segunda\",\n",
    "    \"Tuesday\": \"Terça\",\n",
    "    \"Wednesday\": \"Quarta\",\n",
    "    \"Thursday\": \"Quinta\",\n",
    "    \"Friday\": \"Sexta\",\n",
    "    \"Saturday\": \"Sábado\",\n",
    "    \"Sunday\": \"Domingo\"\n",
    "})\n"
   ]
  },
  {
   "cell_type": "code",
   "execution_count": 590,
   "id": "5da73fb4",
   "metadata": {},
   "outputs": [],
   "source": [
    "#Renomeando Linhas do Mes\n",
    "\n",
    "df_limpo[\"Mês\"] = df_limpo[\"Mês\"].replace({\n",
    "    \"January\": \"Janeiro\",\n",
    "    \"February\": \"Fevereiro\",\n",
    "    \"March\": \"Março\",\n",
    "    \"April\": \"Abril\",\n",
    "    \"May\": \"Maio\",\n",
    "    \"June\": \"Junho\",\n",
    "    \"July\": \"Julho\",\n",
    "    \"August\": \"Agosto\",\n",
    "    \"September\": \"Setembro\",\n",
    "    \"October\": \"Outubro\",\n",
    "    \"November\": \"Novembro\",\n",
    "    \"December\": \"Dezembro\"\n",
    "}) "
   ]
  },
  {
   "cell_type": "code",
   "execution_count": 591,
   "id": "4220fe69",
   "metadata": {},
   "outputs": [],
   "source": [
    "# Padronização dos nomes dos cafés para evitar duplicatas\n",
    "df_limpo[\"Nome do Café\"] = df_limpo[\"Nome do Café\"].str.strip().str.title()"
   ]
  },
  {
   "cell_type": "markdown",
   "id": "1de4163b",
   "metadata": {},
   "source": [
    "Criação de análise dos gráficos"
   ]
  },
  {
   "cell_type": "markdown",
   "id": "bb7a5d0c",
   "metadata": {},
   "source": [
    "Preferencia de pagamento"
   ]
  },
  {
   "cell_type": "code",
   "execution_count": 592,
   "id": "540a48b7",
   "metadata": {},
   "outputs": [
    {
     "data": {
      "image/png": "[encoded data removed]",
      "text/plain": [
       "<Figure size 640x480 with 1 Axes>"
      ]
     },
     "metadata": {},
     "output_type": "display_data"
    }
   ],
   "source": [
    "# Grafico mostrando preferencia de pagamento cartao x dinheiro\n",
    "sns.countplot(\n",
    "    data=df_limpo,\n",
    "    x=\"Tipo de Pagamento\",\n",
    "    hue=\"Tipo de Pagamento\",\n",
    "    palette=\"Set1\",\n",
    "    legend=False\n",
    ")\n",
    "plt.title(\"Preferência de Pagamento\")\n",
    "plt.show()"
   ]
  },
  {
   "cell_type": "code",
   "execution_count": null,
   "id": "65562289",
   "metadata": {},
   "outputs": [
    {
     "data": {
      "application/vnd.plotly.v1+json": {
       "config": {
        "plotlyServerURL": "https://plot.ly"
       },
       "data": [
        {
         "domain": {
          "x": [
           0,
           1
          ],
          "y": [
           0,
           1
          ]
         },
         "hole": 0.5,
         "hovertemplate": "Tipo de Pagamento=%{label}<br>Valor Médio=%{value}<extra></extra>",
         "labels": [
          "Cartão",
          "Dinheiro"
         ],
         "legendgroup": "",
         "name": "",
         "showlegend": true,
         "textinfo": "percent+label",
         "type": "pie",
         "values": {
          "bdata": "VxpI1wtoP0CCmgrRhs8+QA==",
          "dtype": "f8"
         }
        }
       ],
       "layout": {
        "legend": {
         "tracegroupgap": 0
        },
        "template": {
         "data": {
          "bar": [
           {
            "error_x": {
             "color": "#2a3f5f"
            },
            "error_y": {
             "color": "#2a3f5f"
            },
            "marker": {
             "line": {
              "color": "#E5ECF6",
              "width": 0.5
             },
             "pattern": {
              "fillmode": "overlay",
              "size": 10,
              "solidity": 0.2
             }
            },
            "type": "bar"
           }
          ],
          "barpolar": [
           {
            "marker": {
             "line": {
              "color": "#E5ECF6",
              "width": 0.5
             },
             "pattern": {
              "fillmode": "overlay",
              "size": 10,
              "solidity": 0.2
             }
            },
            "type": "barpolar"
           }
          ],
          "carpet": [
           {
            "aaxis": {
             "endlinecolor": "#2a3f5f",
             "gridcolor": "white",
             "linecolor": "white",
             "minorgridcolor": "white",
             "startlinecolor": "#2a3f5f"
            },
            "baxis": {
             "endlinecolor": "#2a3f5f",
             "gridcolor": "white",
             "linecolor": "white",
             "minorgridcolor": "white",
             "startlinecolor": "#2a3f5f"
            },
            "type": "carpet"
           }
          ],
          "choropleth": [
           {
            "colorbar": {
             "outlinewidth": 0,
             "ticks": ""
            },
            "type": "choropleth"
           }
          ],
          "contour": [
           {
            "colorbar": {
             "outlinewidth": 0,
             "ticks": ""
            },
            "colorscale": [
             [
              0,
              "#0d0887"
             ],
             [
              0.1111111111111111,
              "#46039f"
             ],
             [
              0.2222222222222222,
              "#7201a8"
             ],
             [
              0.3333333333333333,
              "#9c179e"
             ],
             [
              0.4444444444444444,
              "#bd3786"
             ],
             [
              0.5555555555555556,
              "#d8576b"
             ],
             [
              0.6666666666666666,
              "#ed7953"
             ],
             [
              0.7777777777777778,
              "#fb9f3a"
             ],
             [
              0.8888888888888888,
              "#fdca26"
             ],
             [
              1,
              "#f0f921"
             ]
            ],
            "type": "contour"
           }
          ],
          "contourcarpet": [
           {
            "colorbar": {
             "outlinewidth": 0,
             "ticks": ""
            },
            "type": "contourcarpet"
           }
          ],
          "heatmap": [
           {
            "colorbar": {
             "outlinewidth": 0,
             "ticks": ""
            },
            "colorscale": [
             [
              0,
              "#0d0887"
             ],
             [
              0.1111111111111111,
              "#46039f"
             ],
             [
              0.2222222222222222,
              "#7201a8"
             ],
             [
              0.3333333333333333,
              "#9c179e"
             ],
             [
              0.4444444444444444,
              "#bd3786"
             ],
             [
              0.5555555555555556,
              "#d8576b"
             ],
             [
              0.6666666666666666,
              "#ed7953"
             ],
             [
              0.7777777777777778,
              "#fb9f3a"
             ],
             [
              0.8888888888888888,
              "#fdca26"
             ],
             [
              1,
              "#f0f921"
             ]
            ],
            "type": "heatmap"
           }
          ],
          "histogram": [
           {
            "marker": {
             "pattern": {
              "fillmode": "overlay",
              "size": 10,
              "solidity": 0.2
             }
            },
            "type": "histogram"
           }
          ],
          "histogram2d": [
           {
            "colorbar": {
             "outlinewidth": 0,
             "ticks": ""
            },
            "colorscale": [
             [
              0,
              "#0d0887"
             ],
             [
              0.1111111111111111,
              "#46039f"
             ],
             [
              0.2222222222222222,
              "#7201a8"
             ],
             [
              0.3333333333333333,
              "#9c179e"
             ],
             [
              0.4444444444444444,
              "#bd3786"
             ],
             [
              0.5555555555555556,
              "#d8576b"
             ],
             [
              0.6666666666666666,
              "#ed7953"
             ],
             [
              0.7777777777777778,
              "#fb9f3a"
             ],
             [
              0.8888888888888888,
              "#fdca26"
             ],
             [
              1,
              "#f0f921"
             ]
            ],
            "type": "histogram2d"
           }
          ],
          "histogram2dcontour": [
           {
            "colorbar": {
             "outlinewidth": 0,
             "ticks": ""
            },
            "colorscale": [
             [
              0,
              "#0d0887"
             ],
             [
              0.1111111111111111,
              "#46039f"
             ],
             [
              0.2222222222222222,
              "#7201a8"
             ],
             [
              0.3333333333333333,
              "#9c179e"
             ],
             [
              0.4444444444444444,
              "#bd3786"
             ],
             [
              0.5555555555555556,
              "#d8576b"
             ],
             [
              0.6666666666666666,
              "#ed7953"
             ],
             [
              0.7777777777777778,
              "#fb9f3a"
             ],
             [
              0.8888888888888888,
              "#fdca26"
             ],
             [
              1,
              "#f0f921"
             ]
            ],
            "type": "histogram2dcontour"
           }
          ],
          "mesh3d": [
           {
            "colorbar": {
             "outlinewidth": 0,
             "ticks": ""
            },
            "type": "mesh3d"
           }
          ],
          "parcoords": [
           {
            "line": {
             "colorbar": {
              "outlinewidth": 0,
              "ticks": ""
             }
            },
            "type": "parcoords"
           }
          ],
          "pie": [
           {
            "automargin": true,
            "type": "pie"
           }
          ],
          "scatter": [
           {
            "fillpattern": {
             "fillmode": "overlay",
             "size": 10,
             "solidity": 0.2
            },
            "type": "scatter"
           }
          ],
          "scatter3d": [
           {
            "line": {
             "colorbar": {
              "outlinewidth": 0,
              "ticks": ""
             }
            },
            "marker": {
             "colorbar": {
              "outlinewidth": 0,
              "ticks": ""
             }
            },
            "type": "scatter3d"
           }
          ],
          "scattercarpet": [
           {
            "marker": {
             "colorbar": {
              "outlinewidth": 0,
              "ticks": ""
             }
            },
            "type": "scattercarpet"
           }
          ],
          "scattergeo": [
           {
            "marker": {
             "colorbar": {
              "outlinewidth": 0,
              "ticks": ""
             }
            },
            "type": "scattergeo"
           }
          ],
          "scattergl": [
           {
            "marker": {
             "colorbar": {
              "outlinewidth": 0,
              "ticks": ""
             }
            },
            "type": "scattergl"
           }
          ],
          "scattermap": [
           {
            "marker": {
             "colorbar": {
              "outlinewidth": 0,
              "ticks": ""
             }
            },
            "type": "scattermap"
           }
          ],
          "scattermapbox": [
           {
            "marker": {
             "colorbar": {
              "outlinewidth": 0,
              "ticks": ""
             }
            },
            "type": "scattermapbox"
           }
          ],
          "scatterpolar": [
           {
            "marker": {
             "colorbar": {
              "outlinewidth": 0,
              "ticks": ""
             }
            },
            "type": "scatterpolar"
           }
          ],
          "scatterpolargl": [
           {
            "marker": {
             "colorbar": {
              "outlinewidth": 0,
              "ticks": ""
             }
            },
            "type": "scatterpolargl"
           }
          ],
          "scatterternary": [
           {
            "marker": {
             "colorbar": {
              "outlinewidth": 0,
              "ticks": ""
             }
            },
            "type": "scatterternary"
           }
          ],
          "surface": [
           {
            "colorbar": {
             "outlinewidth": 0,
             "ticks": ""
            },
            "colorscale": [
             [
              0,
              "#0d0887"
             ],
             [
              0.1111111111111111,
              "#46039f"
             ],
             [
              0.2222222222222222,
              "#7201a8"
             ],
             [
              0.3333333333333333,
              "#9c179e"
             ],
             [
              0.4444444444444444,
              "#bd3786"
             ],
             [
              0.5555555555555556,
              "#d8576b"
             ],
             [
              0.6666666666666666,
              "#ed7953"
             ],
             [
              0.7777777777777778,
              "#fb9f3a"
             ],
             [
              0.8888888888888888,
              "#fdca26"
             ],
             [
              1,
              "#f0f921"
             ]
            ],
            "type": "surface"
           }
          ],
          "table": [
           {
            "cells": {
             "fill": {
              "color": "#EBF0F8"
             },
             "line": {
              "color": "white"
             }
            },
            "header": {
             "fill": {
              "color": "#C8D4E3"
             },
             "line": {
              "color": "white"
             }
            },
            "type": "table"
           }
          ]
         },
         "layout": {
          "annotationdefaults": {
           "arrowcolor": "#2a3f5f",
           "arrowhead": 0,
           "arrowwidth": 1
          },
          "autotypenumbers": "strict",
          "coloraxis": {
           "colorbar": {
            "outlinewidth": 0,
            "ticks": ""
           }
          },
          "colorscale": {
           "diverging": [
            [
             0,
             "#8e0152"
            ],
            [
             0.1,
             "#c51b7d"
            ],
            [
             0.2,
             "#de77ae"
            ],
            [
             0.3,
             "#f1b6da"
            ],
            [
             0.4,
             "#fde0ef"
            ],
            [
             0.5,
             "#f7f7f7"
            ],
            [
             0.6,
             "#e6f5d0"
            ],
            [
             0.7,
             "#b8e186"
            ],
            [
             0.8,
             "#7fbc41"
            ],
            [
             0.9,
             "#4d9221"
            ],
            [
             1,
             "#276419"
            ]
           ],
           "sequential": [
            [
             0,
             "#0d0887"
            ],
            [
             0.1111111111111111,
             "#46039f"
            ],
            [
             0.2222222222222222,
             "#7201a8"
            ],
            [
             0.3333333333333333,
             "#9c179e"
            ],
            [
             0.4444444444444444,
             "#bd3786"
            ],
            [
             0.5555555555555556,
             "#d8576b"
            ],
            [
             0.6666666666666666,
             "#ed7953"
            ],
            [
             0.7777777777777778,
             "#fb9f3a"
            ],
            [
             0.8888888888888888,
             "#fdca26"
            ],
            [
             1,
             "#f0f921"
            ]
           ],
           "sequentialminus": [
            [
             0,
             "#0d0887"
            ],
            [
             0.1111111111111111,
             "#46039f"
            ],
            [
             0.2222222222222222,
             "#7201a8"
            ],
            [
             0.3333333333333333,
             "#9c179e"
            ],
            [
             0.4444444444444444,
             "#bd3786"
            ],
            [
             0.5555555555555556,
             "#d8576b"
            ],
            [
             0.6666666666666666,
             "#ed7953"
            ],
            [
             0.7777777777777778,
             "#fb9f3a"
            ],
            [
             0.8888888888888888,
             "#fdca26"
            ],
            [
             1,
             "#f0f921"
            ]
           ]
          },
          "colorway": [
           "#636efa",
           "#EF553B",
           "#00cc96",
           "#ab63fa",
           "#FFA15A",
           "#19d3f3",
           "#FF6692",
           "#B6E880",
           "#FF97FF",
           "#FECB52"
          ],
          "font": {
           "color": "#2a3f5f"
          },
          "geo": {
           "bgcolor": "white",
           "lakecolor": "white",
           "landcolor": "#E5ECF6",
           "showlakes": true,
           "showland": true,
           "subunitcolor": "white"
          },
          "hoverlabel": {
           "align": "left"
          },
          "hovermode": "closest",
          "mapbox": {
           "style": "light"
          },
          "paper_bgcolor": "white",
          "plot_bgcolor": "#E5ECF6",
          "polar": {
           "angularaxis": {
            "gridcolor": "white",
            "linecolor": "white",
            "ticks": ""
           },
           "bgcolor": "#E5ECF6",
           "radialaxis": {
            "gridcolor": "white",
            "linecolor": "white",
            "ticks": ""
           }
          },
          "scene": {
           "xaxis": {
            "backgroundcolor": "#E5ECF6",
            "gridcolor": "white",
            "gridwidth": 2,
            "linecolor": "white",
            "showbackground": true,
            "ticks": "",
            "zerolinecolor": "white"
           },
           "yaxis": {
            "backgroundcolor": "#E5ECF6",
            "gridcolor": "white",
            "gridwidth": 2,
            "linecolor": "white",
            "showbackground": true,
            "ticks": "",
            "zerolinecolor": "white"
           },
           "zaxis": {
            "backgroundcolor": "#E5ECF6",
            "gridcolor": "white",
            "gridwidth": 2,
            "linecolor": "white",
            "showbackground": true,
            "ticks": "",
            "zerolinecolor": "white"
           }
          },
          "shapedefaults": {
           "line": {
            "color": "#2a3f5f"
           }
          },
          "ternary": {
           "aaxis": {
            "gridcolor": "white",
            "linecolor": "white",
            "ticks": ""
           },
           "baxis": {
            "gridcolor": "white",
            "linecolor": "white",
            "ticks": ""
           },
           "bgcolor": "#E5ECF6",
           "caxis": {
            "gridcolor": "white",
            "linecolor": "white",
            "ticks": ""
           }
          },
          "title": {
           "x": 0.05
          },
          "xaxis": {
           "automargin": true,
           "gridcolor": "white",
           "linecolor": "white",
           "ticks": "",
           "title": {
            "standoff": 15
           },
           "zerolinecolor": "white",
           "zerolinewidth": 2
          },
          "yaxis": {
           "automargin": true,
           "gridcolor": "white",
           "linecolor": "white",
           "ticks": "",
           "title": {
            "standoff": 15
           },
           "zerolinecolor": "white",
           "zerolinewidth": 2
          }
         }
        },
        "title": {
         "text": "Média Gasta em Dinheiro x Cartão"
        }
       }
      }
     },
     "metadata": {},
     "output_type": "display_data"
    },
    {
     "data": {
      "image/png": "[encoded data removed]",
      "text/plain": [
       "<IPython.core.display.Image object>"
      ]
     },
     "execution_count": 617,
     "metadata": {},
     "output_type": "execute_result"
    }
   ],
   "source": [
    "# grafico mostrando comparacao mediana dos gastos por metodo de pagamento \n",
    "comparacao_pagamento = df_limpo.groupby(\"Tipo de Pagamento\")[\"Valor\"].mean().reset_index()\n",
    "comparacao_pagamento.columns = [\"Tipo de Pagamento\", \"Valor Médio\"]\n",
    "\n",
    "fig = px.pie(comparacao_pagamento,\n",
    "             names='Tipo de Pagamento',\n",
    "             values='Valor Médio',\n",
    "             title='Média Gasta em Dinheiro x Cartão',\n",
    "             hole =0.5\n",
    ")\n",
    "\n",
    "fig.update_traces(textinfo='percent+label')\n",
    "fig.show()\n",
    "\n",
    "#mostrar imagem no github\n",
    "from IPython.display import Image\n",
    "Image(\"newplot.png\")"
   ]
  },
  {
   "cell_type": "code",
   "execution_count": 594,
   "id": "b0d76f3f",
   "metadata": {},
   "outputs": [
    {
     "data": {
      "text/plain": [
       "Text(0, 0.5, 'Valor')"
      ]
     },
     "execution_count": 594,
     "metadata": {},
     "output_type": "execute_result"
    },
    {
     "data": {
      "image/png": "[encoded data removed]",
      "text/plain": [
       "<Figure size 1000x600 with 1 Axes>"
      ]
     },
     "metadata": {},
     "output_type": "display_data"
    }
   ],
   "source": [
    "# Gráfico mostrando a distribuição dos gastos por método de pagamento\n",
    "plt.figure(figsize=(10, 6))\n",
    "sns.boxplot(\n",
    "    x='Tipo de Pagamento',\n",
    "    y='Valor',\n",
    "    data=df_limpo,\n",
    "    palette=\"Set1\",\n",
    "    hue = 'Tipo de Pagamento',\n",
    "    legend=False,\n",
    ")\n",
    "plt.title('Distribuição do Valor por Tipo de Pagamento')\n",
    "plt.xlabel('Tipo de Pagamento')\n",
    "plt.ylabel('Valor')"
   ]
  },
  {
   "cell_type": "markdown",
   "id": "4a1f3558",
   "metadata": {},
   "source": [
    "Conclusão:\n",
    "\n",
    "A partir da análise, temos o seguinte entendimento por método de pagamento:\n",
    "\n",
    "Cartão: É o método de pagamento mais utilizado, representando a maior parte das transações. Os valores estão mais próximos da mediana, indicando compras padronizadas, sem ocorrência frequente de valores extremamente altos ou muito baixos. Isso sugere um uso recorrente para compras de ticket médio estável.\n",
    "\n",
    "Dinheiro: Apesar de ter uma participação significativamente menor nas transações, apresenta maior dispersão nos valores. Isso indica que, embora seja utilizado com menor frequência, é escolhido para compras pontuais que, em alguns casos, possuem valores elevados, aumentando a variação e distanciando parte das transações da mediana."
   ]
  },
  {
   "cell_type": "markdown",
   "id": "1ae39c3e",
   "metadata": {},
   "source": [
    "Análise de Produtos"
   ]
  },
  {
   "cell_type": "code",
   "execution_count": 595,
   "id": "d2f484db",
   "metadata": {},
   "outputs": [
    {
     "name": "stderr",
     "output_type": "stream",
     "text": [
      "C:\\Users\\Administrador\\AppData\\Local\\Temp\\ipykernel_20692\\214409859.py:7: UserWarning:\n",
      "\n",
      "\n",
      "The palette list has fewer values (1) than needed (10) and will cycle, which may produce an uninterpretable plot.\n",
      "\n"
     ]
    },
    {
     "data": {
      "image/png": "[encoded data removed]",
      "text/plain": [
       "<Figure size 1500x500 with 1 Axes>"
      ]
     },
     "metadata": {},
     "output_type": "display_data"
    }
   ],
   "source": [
    "#Coletando os 10 Produtos mais Vendidos \n",
    "\n",
    "mais_vendidos = df_limpo[\"Nome do Café\"].value_counts().head(10).reset_index()\n",
    "mais_vendidos.columns = [\"Nome do Café\", \"Quantidade Vendida\"]\n",
    "\n",
    "plt.figure(figsize=(15,5))\n",
    "sns.barplot(\n",
    "    data=mais_vendidos,\n",
    "    y = \"Nome do Café\", \n",
    "    x = \"Quantidade Vendida\",\n",
    "    width=0.7,\n",
    "    palette=[\"#fc9015\"],\n",
    "    hue=\"Nome do Café\",\n",
    "    legend=False\n",
    "    )\n",
    "plt.title('Top 10 Cafés Mais Vendidos')\n",
    "plt.ylabel('Nome do Café')\n",
    "plt.xlabel('Quantidade Vendida')\n",
    "plt.show()"
   ]
  },
  {
   "cell_type": "code",
   "execution_count": 596,
   "id": "ff053c63",
   "metadata": {},
   "outputs": [
    {
     "name": "stderr",
     "output_type": "stream",
     "text": [
      "C:\\Users\\Administrador\\AppData\\Local\\Temp\\ipykernel_20692\\927362474.py:6: UserWarning:\n",
      "\n",
      "\n",
      "The palette list has fewer values (1) than needed (10) and will cycle, which may produce an uninterpretable plot.\n",
      "\n"
     ]
    },
    {
     "data": {
      "image/png": "[encoded data removed]",
      "text/plain": [
       "<Figure size 1500x500 with 1 Axes>"
      ]
     },
     "metadata": {},
     "output_type": "display_data"
    }
   ],
   "source": [
    "# Coletando os produtos que mais geram lucro\n",
    "\n",
    "mais_rentaveis = df_limpo.groupby(\"Nome do Café\")[\"Valor\"].sum().reset_index().sort_values(by=\"Valor\", ascending=False).head(10)\n",
    "\n",
    "plt.figure(figsize=(15,5))\n",
    "sns.barplot(\n",
    "    data=mais_rentaveis,\n",
    "    y = \"Nome do Café\", \n",
    "    x = \"Valor\",\n",
    "    width=0.7,\n",
    "    palette=[\"#0059be\"],\n",
    "    hue=\"Nome do Café\",\n",
    "    legend=False\n",
    "    )\n",
    "plt.title('Top 10 Cafés Mais Rentáveis')\n",
    "plt.ylabel('Nome do Café')\n",
    "plt.xlabel('Valor')\n",
    "plt.show()"
   ]
  },
  {
   "cell_type": "markdown",
   "id": "67ffe0d0",
   "metadata": {},
   "source": [
    "Faturamento por Hora, utilizando ambos DataSets"
   ]
  },
  {
   "cell_type": "code",
   "execution_count": 597,
   "id": "3a93bad1",
   "metadata": {},
   "outputs": [
    {
     "data": {
      "image/png": "[encoded data removed]",
      "text/plain": [
       "<Figure size 1000x400 with 1 Axes>"
      ]
     },
     "metadata": {},
     "output_type": "display_data"
    }
   ],
   "source": [
    "vendas_por_hora = df_limpo.groupby(\"Hora\")[\"Valor\"].sum().reset_index()\n",
    "plt.figure(figsize=(10,4))\n",
    "sns.lineplot(data=vendas_por_hora, x=\"Hora\", y=\"Valor\", color=\"#fc9015\", marker=\"o\")\n",
    "plt.title(\"Faturamento por Hora do Dia\")\n",
    "plt.grid(True, linestyle='--', alpha=0.4)\n",
    "plt.tight_layout()\n",
    "plt.show()"
   ]
  },
  {
   "cell_type": "markdown",
   "id": "209ccc61",
   "metadata": {},
   "source": [
    "Faturamento (Comparando apenas o mês de Março, pois é o único que possui dados em ambos DataSets)"
   ]
  },
  {
   "cell_type": "code",
   "execution_count": 598,
   "id": "b4eb8810",
   "metadata": {},
   "outputs": [
    {
     "data": {
      "image/png": "[encoded data removed]",
      "text/plain": [
       "<Figure size 1500x500 with 1 Axes>"
      ]
     },
     "metadata": {},
     "output_type": "display_data"
    }
   ],
   "source": [
    "ordem_dia = [\"Domingo\", \"Segunda\", \"Terça\", \"Quarta\", \"Quinta\", \"Sexta\", \"Sábado\"]\n",
    "\n",
    "faturamento_marco = df_limpo[(df_limpo[\"Mês\"] == \"Março\") & (df_limpo[\"Ano\"].isin([2024,2025]))] \n",
    "faturamento_dia = faturamento_marco.groupby([\"Ano\",\"Dia\"])[\"Valor\"].sum().reset_index()\n",
    "\n",
    "plt.figure(figsize=(15, 5))\n",
    "sns.barplot(\n",
    "    data=faturamento_dia,\n",
    "    x=\"Dia\",\n",
    "    y=\"Valor\",\n",
    "    hue=\"Ano\",\n",
    "    order=ordem_dia\n",
    ")\n",
    "\n",
    "plt.title(\"Faturamento por Dia da Semana (Apenas Março)\")\n",
    "plt.xlabel(\"Dia\")\n",
    "plt.ylabel(\"Faturamento\")\n",
    "plt.show()"
   ]
  },
  {
   "cell_type": "code",
   "execution_count": 599,
   "id": "3570545d",
   "metadata": {},
   "outputs": [
    {
     "data": {
      "image/png": "[encoded data removed]",
      "text/plain": [
       "<Figure size 1000x500 with 1 Axes>"
      ]
     },
     "metadata": {},
     "output_type": "display_data"
    }
   ],
   "source": [
    "ordem_mes = [\"Janeiro\", \"Fevereiro\", \"Março\", \"Abril\", \"Maio\", \"Junho\", \"Julho\", \"Agosto\", \"Setembro\", \"Outubro\", \"Novembro\", \"Dezembro\"]\n",
    "faturamento_mes = faturamento_marco.groupby([\"Ano\",\"Mês\"])[\"Valor\"].sum().reset_index()\n",
    "\n",
    "plt.figure(figsize=(10, 5))\n",
    "sns.barplot(\n",
    "    data=faturamento_mes,\n",
    "    x=\"Mês\",\n",
    "    y=\"Valor\",\n",
    "    hue=\"Ano\",\n",
    "    order=ordem_mes\n",
    ")\n",
    "\n",
    "plt.title(\"Faturamento por Mês\")\n",
    "plt.xlabel(\"Mês\")\n",
    "plt.ylabel(\"Faturamento\")\n",
    "plt.xticks(rotation=45)\n",
    "plt.show()"
   ]
  }
 ],
 "metadata": {
  "kernelspec": {
   "display_name": ".venv",
   "language": "python",
   "name": "python3"
  },
  "language_info": {
   "codemirror_mode": {
    "name": "ipython",
    "version": 3
   },
   "file_extension": ".py",
   "mimetype": "text/x-python",
   "name": "python",
   "nbconvert_exporter": "python",
   "pygments_lexer": "ipython3",
   "version": "3.13.6"
  }
 },
 "nbformat": 4,
 "nbformat_minor": 5
}
